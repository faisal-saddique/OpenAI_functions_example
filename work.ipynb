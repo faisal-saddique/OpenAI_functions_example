{
 "cells": [
  {
   "cell_type": "code",
   "execution_count": 2,
   "metadata": {},
   "outputs": [
    {
     "name": "stdout",
     "output_type": "stream",
     "text": [
      "{\"success\": true, \"email\": \"faisalsaddique04@gmail.com\", \"user_id\": 16068627}\n"
     ]
    }
   ],
   "source": [
    "import requests\n",
    "\n",
    "url = 'https://nla.zapier.com/api/v1/check/'\n",
    "api_key = 'sk-ak-caMHfChVtRQVrDlIeDfo9jWtuR'\n",
    "\n",
    "headers = {\n",
    "    'Content-Type': 'application/json',\n",
    "    'x-api-key': api_key\n",
    "}\n",
    "\n",
    "response = requests.get(url, headers=headers)\n",
    "\n",
    "print(response.text)\n"
   ]
  },
  {
   "cell_type": "code",
   "execution_count": 20,
   "metadata": {},
   "outputs": [
    {
     "name": "stdout",
     "output_type": "stream",
     "text": [
      "API request failed with status code: 401\n",
      "Response:\n",
      "{'error': 'invalid_token'}\n"
     ]
    }
   ],
   "source": [
    "import requests\n",
    "\n",
    "def make_api_request():\n",
    "    url = 'https://nla.zapier.com/api/v1/dynamic/exposed/01H6MCJXP8YQQK18GJHCV6A9YN/execute/'  # Replace <ACTION_ID> with the actual action ID\n",
    "    access_token = 'sk-ak-5mqIMgmfkWcE1jpnBpIuMBJiFy'  # Replace <ACCESS_TOKEN> with the actual access token\n",
    "    \n",
    "    headers = {\n",
    "        'Authorization': f'Bearer {access_token}',\n",
    "        'Content-Type': 'application/json'\n",
    "    }\n",
    "    \n",
    "    payload = {\n",
    "        'instructions': 'send test email to faisalsaddique04@gmail.com'\n",
    "    }\n",
    "    \n",
    "    try:\n",
    "        response = requests.post(url, json=payload, headers=headers)\n",
    "        \n",
    "        if response.status_code == 200:\n",
    "            print(\"API request successful!\")\n",
    "            print(\"Response:\")\n",
    "            print(response.json())\n",
    "        else:\n",
    "            print(f\"API request failed with status code: {response.status_code}\")\n",
    "            print(\"Response:\")\n",
    "            print(response.json())\n",
    "    \n",
    "    except requests.exceptions.RequestException as e:\n",
    "        print(f\"Error occurred: {e}\")\n",
    "\n",
    "if __name__ == \"__main__\":\n",
    "    make_api_request()\n"
   ]
  },
  {
   "cell_type": "code",
   "execution_count": 4,
   "metadata": {},
   "outputs": [
    {
     "data": {
      "text/plain": [
       "True"
      ]
     },
     "execution_count": 4,
     "metadata": {},
     "output_type": "execute_result"
    }
   ],
   "source": [
    "import os\n",
    "from dotenv import load_dotenv\n",
    "\n",
    "load_dotenv()"
   ]
  },
  {
   "cell_type": "code",
   "execution_count": 5,
   "metadata": {},
   "outputs": [],
   "source": [
    "from langchain.llms import OpenAI\n",
    "from langchain.agents import initialize_agent\n",
    "from langchain.agents.agent_toolkits import ZapierToolkit\n",
    "from langchain.agents import AgentType\n",
    "from langchain.utilities.zapier import ZapierNLAWrapper"
   ]
  },
  {
   "cell_type": "code",
   "execution_count": 8,
   "metadata": {},
   "outputs": [],
   "source": [
    "llm = OpenAI(temperature=0)\n",
    "zapier = ZapierNLAWrapper(zapier_nla_api_key=\"sk-ak-spRXigynbAUpCWdSX8H7UFvy4l\")\n",
    "toolkit = ZapierToolkit.from_zapier_nla_wrapper(zapier)\n",
    "agent = initialize_agent(\n",
    "    toolkit.get_tools(), llm, agent=AgentType.ZERO_SHOT_REACT_DESCRIPTION, verbose=True\n",
    ")"
   ]
  },
  {
   "cell_type": "code",
   "execution_count": 9,
   "metadata": {},
   "outputs": [
    {
     "name": "stdout",
     "output_type": "stream",
     "text": [
      "\n",
      "\n",
      "\u001b[1m> Entering new AgentExecutor chain...\u001b[0m\n",
      "\u001b[32;1m\u001b[1;3m I need to use the Gmail: Send Email tool\n",
      "Action: Gmail: Send Email\n",
      "Action Input: ['Body': 'Hey Faisal, I hope you're having a great day! Here's a funny joke for you: Why did the chicken cross the playground? To get to the other slide!', 'To': 'faisalsaddique04@gmail.com', 'Cc': '', 'Subject': 'A funny joke for you!']\u001b[0m\n",
      "Observation: \u001b[36;1m\u001b[1;3m{\"id\": \"189a8e10f6fa5436\", \"threadId\": \"189a8e10f6fa5436\", \"labelIds\": [\"SENT\"]}\u001b[0m\n",
      "Thought:\u001b[32;1m\u001b[1;3m I now know the final answer\n",
      "Final Answer: Email sent successfully.\u001b[0m\n",
      "\n",
      "\u001b[1m> Finished chain.\u001b[0m\n"
     ]
    },
    {
     "data": {
      "text/plain": [
       "'Email sent successfully.'"
      ]
     },
     "execution_count": 9,
     "metadata": {},
     "output_type": "execute_result"
    }
   ],
   "source": [
    "agent.run(\n",
    "    \"send a funny email to faisalsaddique04@gmail.com\"\n",
    ")"
   ]
  },
  {
   "cell_type": "code",
   "execution_count": 10,
   "metadata": {},
   "outputs": [
    {
     "name": "stdout",
     "output_type": "stream",
     "text": [
      "API request failed with status code: 401\n",
      "Response:\n",
      "{'error': 'invalid_token'}\n"
     ]
    }
   ],
   "source": [
    "import requests\n",
    "\n",
    "def make_api_request():\n",
    "    url = 'https://nla.zapier.com/api/v1/dynamic/exposed/'\n",
    "    access_token = 'sk-ak-spRXigynbAUpCWdSX8H7UFvy4l'  # Replace <ACCESS_TOKEN> with the actual access token\n",
    "    \n",
    "    headers = {\n",
    "        'Authorization': f'Bearer {access_token}'\n",
    "    }\n",
    "    \n",
    "    try:\n",
    "        response = requests.get(url, headers=headers)\n",
    "        \n",
    "        if response.status_code == 200:\n",
    "            print(\"API request successful!\")\n",
    "            print(\"Response:\")\n",
    "            print(response.json())\n",
    "        else:\n",
    "            print(f\"API request failed with status code: {response.status_code}\")\n",
    "            print(\"Response:\")\n",
    "            print(response.json())\n",
    "    \n",
    "    except requests.exceptions.RequestException as e:\n",
    "        print(f\"Error occurred: {e}\")\n",
    "\n",
    "if __name__ == \"__main__\":\n",
    "    make_api_request()\n"
   ]
  },
  {
   "cell_type": "code",
   "execution_count": 15,
   "metadata": {},
   "outputs": [
    {
     "name": "stdout",
     "output_type": "stream",
     "text": [
      "'Action ID to send Email is: 01H6MDKGBNW1C8K0JSD93S4HQ0'\n",
      "Request successful!\n",
      "{'action_used': 'Gmail: Send Email',\n",
      " 'additional_results': [],\n",
      " 'assistant_hint': None,\n",
      " 'error': None,\n",
      " 'id': '01H6MG46Z6F6MJETV71ANQW0M3',\n",
      " 'input_params': {'Body': \"Today was a bad day at the gym. I'm feeling very \"\n",
      "                          'sad.',\n",
      "                  'Subject': 'Bad Day at the Gym',\n",
      "                  'To': 'faisalsaddique04@gmail.com'},\n",
      " 'result': {'id': '189a9021e1c03e8d',\n",
      "            'labelIds': ['SENT'],\n",
      "            'threadId': '189a9021e1c03e8d'},\n",
      " 'result_field_labels': {},\n",
      " 'review_url': 'https://nla.zapier.com/execution/01H6MG46Z6F6MJETV71ANQW0M3/',\n",
      " 'status': 'success'}\n"
     ]
    }
   ],
   "source": [
    "# Import necessary libraries\n",
    "import requests  # Library for making HTTP requests\n",
    "from pprint import pprint  # Pretty-printing library for nicer output\n",
    "\n",
    "# Define the API key to be used for authentication\n",
    "api_key = 'sk-ak-spRXigynbAUpCWdSX8H7UFvy4l'\n",
    "\n",
    "# Function to send an email through Zapier\n",
    "def send_email_through_zapier(instructions):\n",
    "    # Define the base URL for the Zapier API\n",
    "    url = 'https://nla.zapier.com/api/v1/exposed/'\n",
    "\n",
    "    # Define the headers to be sent along with the request\n",
    "    headers = {\n",
    "        'accept': 'application/json',\n",
    "        'X-API-Key': api_key\n",
    "    }\n",
    "\n",
    "    # Send a GET request to the Zapier API to retrieve available actions\n",
    "    response = requests.get(url, params={'api_key': api_key}, headers=headers)\n",
    "\n",
    "    # Check if the request was successful (status code 200)\n",
    "    if response.status_code == 200:\n",
    "        # Parse the response data as JSON\n",
    "        data = response.json()\n",
    "\n",
    "        # Uncomment the following line if you want to see the data received from Zapier\n",
    "        # pprint(data)\n",
    "\n",
    "        # Iterate through the list of results returned by Zapier\n",
    "        for iter in data['results']:\n",
    "            # Check if the current action is the one for sending an email\n",
    "            if (iter['description'] == \"Gmail: Send Email\"):\n",
    "                # Get the action ID for sending an email\n",
    "                action_id = iter['id']\n",
    "\n",
    "                # Print the action ID for informational purposes\n",
    "                pprint(f\"Action ID to send Email is: {action_id}\")\n",
    "\n",
    "                # Update the URL to include the action ID for sending an email\n",
    "                url = f'{url}{action_id}/execute/'\n",
    "\n",
    "                # Define new headers including the 'Content-Type' required for POST requests\n",
    "                headers = {\n",
    "                    'accept': 'application/json',\n",
    "                    'X-API-Key': api_key,\n",
    "                    'Content-Type': 'application/json'\n",
    "                }\n",
    "\n",
    "                # Prepare the payload (data to be sent in the request body) for sending an email\n",
    "                payload = {\n",
    "                    \"instructions\": instructions,\n",
    "                    \"preview_only\": False\n",
    "                }\n",
    "\n",
    "                # Send a POST request to the Zapier API to trigger the email sending action\n",
    "                response = requests.post(url, headers=headers, json=payload)\n",
    "\n",
    "                # Check if the request was successful (status code 200)\n",
    "                if response.status_code == 200:\n",
    "                    # Parse the response data as JSON\n",
    "                    data = response.json()\n",
    "                    # Return the response data to the caller\n",
    "                    return data\n",
    "                else:\n",
    "                    # If the request was not successful, print an error message and return None\n",
    "                    print(f\"Request failed with status code: {response.status_code}\")\n",
    "                    return None\n",
    "    else:\n",
    "        # If the initial GET request to retrieve actions was not successful, print an error message and return None\n",
    "        print(f\"Request failed with status code: {response.status_code}\")\n",
    "\n",
    "# Define the instructions for sending the email\n",
    "instructions = \"please send a detailed sad email to faisalsaddique04@gmail.com telling him how bad was my day at gym\"\n",
    "\n",
    "# Call the send_email_through_zapier function and store the result in 'result'\n",
    "result = send_email_through_zapier(instructions=instructions)\n",
    "\n",
    "# Check if the result is not None (i.e., the request was successful)\n",
    "if result:\n",
    "    # If the request was successful, print a success message and display the result\n",
    "    print(\"Request successful!\")\n",
    "    pprint(result)\n"
   ]
  },
  {
   "cell_type": "code",
   "execution_count": 1,
   "metadata": {},
   "outputs": [],
   "source": [
    "import os\n",
    "import openai\n",
    "import re\n",
    "from dotenv import load_dotenv\n",
    "\n",
    "load_dotenv()\n",
    "\n",
    "openai.api_key = os.getenv(\"OPENAI_API_KEY\")\n",
    "\n",
    "COMPLETION_MODEL = \"gpt-3.5-turbo-0613\""
   ]
  },
  {
   "cell_type": "code",
   "execution_count": 2,
   "metadata": {},
   "outputs": [],
   "source": [
    "QUESTION = (\n",
    "    \"What's the result of 22 plus 5 in decimal added to the hexadecimal number A?\"\n",
    ")\n",
    "messages = [\n",
    "    {\"role\": \"user\", \"content\": QUESTION},\n",
    "]\n",
    "\n",
    "\n",
    "def add_decimal_values(arguments):\n",
    "    value1 = int(re.search(r'\"value1\": (\\d+)', str(arguments)).group(1))\n",
    "    value2 = int(re.search(r'\"value2\": (\\d+)', str(arguments)).group(1))\n",
    "\n",
    "    result = value1 + value2\n",
    "    print(f\"{value1} + {value2} = {result} (decimal)\")\n",
    "\n",
    "    return value1 + value2\n",
    "\n",
    "\n",
    "def add_hexadecimal_values(arguments):\n",
    "    value1 = re.search(r'\"value1\": \"(\\w+)\"', str(arguments)).group(1)\n",
    "    value2 = re.search(r'\"value2\": \"(\\w+)\"', str(arguments)).group(1)\n",
    "\n",
    "    decimal1 = int(value1, 16)\n",
    "    decimal2 = int(value2, 16)\n",
    "\n",
    "    result = hex(decimal1 + decimal2)[2:]\n",
    "    print(f\"{value1} + {value2} = {result} (hex)\")\n",
    "    return result\n",
    "\n",
    "\n",
    "def get_completion(messages):\n",
    "    response = openai.ChatCompletion.create(\n",
    "        model=COMPLETION_MODEL,\n",
    "        messages=messages,\n",
    "        functions=[\n",
    "            {\n",
    "                \"name\": \"add_decimal_values\",\n",
    "                \"description\": \"Add two decimal values\",\n",
    "                \"parameters\": {\n",
    "                    \"type\": \"object\",\n",
    "                    \"properties\": {\n",
    "                        \"value1\": {\n",
    "                            \"type\": \"integer\",\n",
    "                            \"description\": \"The first decimal value to add. For example, 5\",\n",
    "                        },\n",
    "                        \"value2\": {\n",
    "                            \"type\": \"integer\",\n",
    "                            \"description\": \"The second decimal value to add. For example, 10\",\n",
    "                        },\n",
    "                    },\n",
    "                    \"required\": [\"value1\", \"value2\"],\n",
    "                },\n",
    "            },\n",
    "            {\n",
    "                \"name\": \"add_hexadecimal_values\",\n",
    "                \"description\": \"Add two hexadecimal values\",\n",
    "                \"parameters\": {\n",
    "                    \"type\": \"object\",\n",
    "                    \"properties\": {\n",
    "                        \"value1\": {\n",
    "                            \"type\": \"string\",\n",
    "                            \"description\": \"The first hexadecimal value to add. For example, 5\",\n",
    "                        },\n",
    "                        \"value2\": {\n",
    "                            \"type\": \"string\",\n",
    "                            \"description\": \"The second hexadecimal value to add. For example, A\",\n",
    "                        },\n",
    "                    },\n",
    "                    \"required\": [\"value1\", \"value2\"],\n",
    "                },\n",
    "            },\n",
    "        ],\n",
    "        temperature=0,\n",
    "    )\n",
    "\n",
    "    return response"
   ]
  },
  {
   "cell_type": "code",
   "execution_count": 3,
   "metadata": {},
   "outputs": [
    {
     "name": "stdout",
     "output_type": "stream",
     "text": [
      "22 + 5 = 27 (decimal)\n",
      "27 + A = 31 (hex)\n",
      "The result of adding 22 and 5 in decimal, and then adding the hexadecimal number A, is 31.\n"
     ]
    }
   ],
   "source": [
    "while True:\n",
    "    response = get_completion(messages)\n",
    "\n",
    "    if response.choices[0][\"finish_reason\"] == \"stop\":\n",
    "        print(response.choices[0][\"message\"][\"content\"])\n",
    "        break\n",
    "\n",
    "    elif response.choices[0][\"finish_reason\"] == \"function_call\":\n",
    "        fn_name = response.choices[0].message[\"function_call\"].name\n",
    "        arguments = response.choices[0].message[\"function_call\"].arguments\n",
    "\n",
    "        function = locals()[fn_name]\n",
    "        result = function(arguments)\n",
    "\n",
    "        messages.append(\n",
    "            {\n",
    "                \"role\": \"assistant\",\n",
    "                \"content\": None,\n",
    "                \"function_call\": {\n",
    "                    \"name\": fn_name,\n",
    "                    \"arguments\": arguments,\n",
    "                },\n",
    "            }\n",
    "        )\n",
    "\n",
    "        messages.append(\n",
    "            {\n",
    "                \"role\": \"function\", \n",
    "                \"name\": fn_name, \n",
    "                \"content\": f'{{\"result\": {str(result)} }}'}\n",
    "        )\n",
    "\n",
    "        response = get_completion(messages)"
   ]
  }
 ],
 "metadata": {
  "kernelspec": {
   "display_name": "Python 3",
   "language": "python",
   "name": "python3"
  },
  "language_info": {
   "codemirror_mode": {
    "name": "ipython",
    "version": 3
   },
   "file_extension": ".py",
   "mimetype": "text/x-python",
   "name": "python",
   "nbconvert_exporter": "python",
   "pygments_lexer": "ipython3",
   "version": "3.11.4"
  },
  "orig_nbformat": 4
 },
 "nbformat": 4,
 "nbformat_minor": 2
}
